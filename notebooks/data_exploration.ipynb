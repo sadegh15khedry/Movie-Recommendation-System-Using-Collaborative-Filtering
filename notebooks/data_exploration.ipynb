{
 "cells": [
  {
   "cell_type": "code",
   "execution_count": null,
   "metadata": {},
   "outputs": [],
   "source": [
    "import sys\n",
    "import os\n",
    "# Adding the src directory to the Python path\n",
    "sys.path.append(os.path.abspath('../src'))\n",
    "from utils import load_datasets"
   ]
  },
  {
   "cell_type": "code",
   "execution_count": null,
   "metadata": {},
   "outputs": [],
   "source": [
    "# Setting the variables\n",
    "path = '../datasets/'"
   ]
  },
  {
   "cell_type": "code",
   "execution_count": null,
   "metadata": {},
   "outputs": [],
   "source": [
    "# Loading the datasets\n",
    "movie_df, tag_df, rating_df = load_datasets(path)"
   ]
  },
  {
   "cell_type": "code",
   "execution_count": null,
   "metadata": {},
   "outputs": [],
   "source": [
    "# shapes of data analysis\n",
    "print(\"movie shape: \"+ str(movie_df.shape))\n",
    "print(\"tag shape: \"+str(tag_df.shape))\n",
    "print(\"tag shape: \"+str(rating_df.shape))\n",
    "print(\"\\n\\n\")\n"
   ]
  },
  {
   "cell_type": "code",
   "execution_count": null,
   "metadata": {},
   "outputs": [],
   "source": [
    "print(movie_df.head())\n",
    "print(tag_df.head())\n",
    "print(rating_df.head())"
   ]
  },
  {
   "cell_type": "code",
   "execution_count": null,
   "metadata": {},
   "outputs": [],
   "source": [
    "print(movie_df.describe())\n",
    "print(tag_df.describe())\n",
    "print(rating_df.describe())"
   ]
  },
  {
   "cell_type": "code",
   "execution_count": null,
   "metadata": {},
   "outputs": [],
   "source": [
    "print(\"movie info: \"+str(movie_df.info()))\n",
    "print(\"tag info: \"+str(tag_df.info()))\n",
    "print(\"rating info: \"+str(rating_df.info()))"
   ]
  },
  {
   "cell_type": "code",
   "execution_count": null,
   "metadata": {},
   "outputs": [],
   "source": [
    "print(\"movie missing values: \"+str(movie_df.isnull().sum()))\n",
    "print(\"tag missing values: \"+str(tag_df.isnull().sum()))\n",
    "print(\"rating missing values: \"+str(rating_df.isnull().sum()))"
   ]
  },
  {
   "cell_type": "code",
   "execution_count": null,
   "metadata": {},
   "outputs": [],
   "source": [
    "print(\"movie duplicates: \"+str(movie_df.duplicated().sum()))\n",
    "print(\"tag duplicates: \"+str(tag_df.duplicated().sum()))\n",
    "print(\"rating duplicates: \"+str(rating_df.duplicated().sum()))"
   ]
  },
  {
   "cell_type": "code",
   "execution_count": null,
   "metadata": {},
   "outputs": [],
   "source": [
    "rating_df[\"rating\"].value_counts().plot(kind='bar')\n"
   ]
  },
  {
   "cell_type": "code",
   "execution_count": null,
   "metadata": {},
   "outputs": [],
   "source": [
    "#selecting proper column\n",
    "tag_df = tag_df[[\"userId\", \"movieId\"]]\n",
    "rating_df = rating_df[[\"userId\", \"movieId\", \"rating\"]]\n",
    "\n",
    "tag_df.corr()\n",
    "rating_df.corr()"
   ]
  }
 ],
 "metadata": {
  "kernelspec": {
   "display_name": "Python 3 (ipykernel)",
   "language": "python",
   "name": "python3"
  }
 },
 "nbformat": 4,
 "nbformat_minor": 2
}
