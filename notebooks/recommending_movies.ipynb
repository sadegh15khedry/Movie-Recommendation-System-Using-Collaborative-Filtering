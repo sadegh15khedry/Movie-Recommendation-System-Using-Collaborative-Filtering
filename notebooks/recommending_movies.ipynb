{
 "cells": [
  {
   "cell_type": "code",
   "execution_count": 1,
   "metadata": {},
   "outputs": [],
   "source": [
    "import sys\n",
    "import os\n",
    "# Adding the src directory to the Python path\n",
    "sys.path.append(os.path.abspath('../src'))\n",
    "from utils import load_datasets\n",
    "from recommending_movies import get_similar_results_using_collaborative_filtering\n",
    "import pandas as pd"
   ]
  },
  {
   "cell_type": "code",
   "execution_count": 8,
   "metadata": {},
   "outputs": [],
   "source": [
    "# Setting the variables\n",
    "dataset_dirctory_path = '../datasets/'\n",
    "ratings_count_threshold = 100"
   ]
  },
  {
   "cell_type": "code",
   "execution_count": 3,
   "metadata": {},
   "outputs": [],
   "source": [
    "# Loading the datasets\n",
    "movie_df, tag_df, rating_df = load_datasets(dataset_dirctory_path)"
   ]
  },
  {
   "cell_type": "code",
   "execution_count": 4,
   "metadata": {},
   "outputs": [],
   "source": [
    "#selecting proper column\n",
    "tag_df = tag_df[[\"userId\", \"movieId\", \"tag\"]]\n",
    "rating_df = rating_df[[\"userId\", \"movieId\", \"rating\"]]\n",
    "movie_df = movie_df[[\"title\",\"movieId\", \"genres\"]]"
   ]
  },
  {
   "cell_type": "code",
   "execution_count": 9,
   "metadata": {},
   "outputs": [
    {
     "name": "stdout",
     "output_type": "stream",
     "text": [
      "<bound method DataFrame.info of        userId  movieId  rating                        title  \\\n",
      "0           1        1     4.0             Toy Story (1995)   \n",
      "1           1        6     4.0                  Heat (1995)   \n",
      "2           1       47     5.0  Seven (a.k.a. Se7en) (1995)   \n",
      "3           1       50     5.0   Usual Suspects, The (1995)   \n",
      "4           1      110     4.0            Braveheart (1995)   \n",
      "...       ...      ...     ...                          ...   \n",
      "19783     610    48516     5.0         Departed, The (2006)   \n",
      "19784     610    58559     4.5      Dark Knight, The (2008)   \n",
      "19785     610    60069     4.5                WALL·E (2008)   \n",
      "19786     610    68954     3.5                    Up (2009)   \n",
      "19787     610    79132     4.0             Inception (2010)   \n",
      "\n",
      "                                                genres  mean_rating  \\\n",
      "0          Adventure|Animation|Children|Comedy|Fantasy     3.920930   \n",
      "1                                Action|Crime|Thriller     3.946078   \n",
      "2                                     Mystery|Thriller     3.975369   \n",
      "3                               Crime|Mystery|Thriller     4.237745   \n",
      "4                                     Action|Drama|War     4.031646   \n",
      "...                                                ...          ...   \n",
      "19783                             Crime|Drama|Thriller     4.252336   \n",
      "19784                          Action|Crime|Drama|IMAX     4.238255   \n",
      "19785      Adventure|Animation|Children|Romance|Sci-Fi     4.057692   \n",
      "19786               Adventure|Animation|Children|Drama     4.004762   \n",
      "19787  Action|Crime|Drama|Mystery|Sci-Fi|Thriller|IMAX     4.066434   \n",
      "\n",
      "       number_of_rating  \n",
      "0                   215  \n",
      "1                   102  \n",
      "2                   203  \n",
      "3                   204  \n",
      "4                   237  \n",
      "...                 ...  \n",
      "19783               107  \n",
      "19784               149  \n",
      "19785               104  \n",
      "19786               105  \n",
      "19787               143  \n",
      "\n",
      "[19788 rows x 7 columns]>\n",
      "(1, 56)\n",
      "{'Waterworld (1995)': -0.5494568911622643}\n"
     ]
    },
    {
     "data": {
      "text/html": [
       "<div>\n",
       "<style scoped>\n",
       "    .dataframe tbody tr th:only-of-type {\n",
       "        vertical-align: middle;\n",
       "    }\n",
       "\n",
       "    .dataframe tbody tr th {\n",
       "        vertical-align: top;\n",
       "    }\n",
       "\n",
       "    .dataframe thead th {\n",
       "        text-align: right;\n",
       "    }\n",
       "</style>\n",
       "<table border=\"1\" class=\"dataframe\">\n",
       "  <thead>\n",
       "    <tr style=\"text-align: right;\">\n",
       "      <th></th>\n",
       "      <th>movieId</th>\n",
       "      <th>movie_score</th>\n",
       "    </tr>\n",
       "  </thead>\n",
       "  <tbody>\n",
       "    <tr>\n",
       "      <th>0</th>\n",
       "      <td>Waterworld (1995)</td>\n",
       "      <td>-0.549457</td>\n",
       "    </tr>\n",
       "  </tbody>\n",
       "</table>\n",
       "</div>"
      ],
      "text/plain": [
       "             movieId  movie_score\n",
       "0  Waterworld (1995)    -0.549457"
      ]
     },
     "execution_count": 9,
     "metadata": {},
     "output_type": "execute_result"
    }
   ],
   "source": [
    "# Gettign the results\n",
    "results = get_similar_results_using_collaborative_filtering(movie_df, rating_df,ratings_count_threshold)\n",
    "\n",
    "results\n"
   ]
  }
 ],
 "metadata": {
  "kernelspec": {
   "display_name": "Python 3 (ipykernel)",
   "language": "python",
   "name": "python3"
  },
  "language_info": {
   "codemirror_mode": {
    "name": "ipython",
    "version": 3
   },
   "file_extension": ".py",
   "mimetype": "text/x-python",
   "name": "python",
   "nbconvert_exporter": "python",
   "pygments_lexer": "ipython3",
   "version": "3.9.19"
  }
 },
 "nbformat": 4,
 "nbformat_minor": 2
}
